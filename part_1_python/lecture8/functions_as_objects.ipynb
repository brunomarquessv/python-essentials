{
 "cells": [
  {
   "cell_type": "markdown",
   "metadata": {},
   "source": [
    "##### Funções como objeto\n",
    "\n",
    "Sim, por mais que possa soar estranho, mas as funções também são objetos e possuem um tipo ``function``. Vamos entender!"
   ]
  },
  {
   "cell_type": "markdown",
   "metadata": {},
   "source": [
    "O que aconteceria com a função, caso ela não tenha o return?<br>\n",
    "\n",
    "```python\n",
    "def is_even(i):\n",
    "    i%2 == 0\n",
    "```\n",
    "\n",
    "- O python, caso não haja um ``return`` no fim de sua função, irá retornar ``None`` que é um objeto do tipo ``NoneType``."
   ]
  },
  {
   "cell_type": "markdown",
   "metadata": {},
   "source": [
    "Qual a diferença do ``return`` para o ``print`` em uma função?\n",
    "\n",
    "Toda função precisa retornar algo e caso você coloque um print ao invés do ``return`` ela ainda assim nao irá retornar nada, ou seja: ``None``. Mesmo indicando um print, ele não irá funcionar como um retorno, mas funcionará como uma \"ação\" da função.\n",
    "\n",
    "``return``:\n",
    "- o return só pode ser utilizado dentro de uma função\n",
    "- apenas 1 return pode ser executado dentro de uma função\n",
    "- a função ou código, só iria executar o que foi instruído antes do return, após o return não será executado\n",
    "- possui um valor associado a ele, dado a função que o chama\n",
    "\n",
    "``print``: \n",
    "- pode ser utilizado dentro e fora das funções\n",
    "- pode executar inumeros ``prints`` dentro da declaração da função\n",
    "- qualquer código que for instruído após o print dentro da função, será executado\n",
    "- possui um valor associado a ele que é enviado para o console\n",
    "- a própria expressão ``print`` retorna None como seu valor"
   ]
  },
  {
   "cell_type": "markdown",
   "metadata": {},
   "source": [
    "**As funções suportam modularidade**\n",
    "\n",
    "Podemos chamar as funções com diferentes valores, por exemplo:\n",
    "```python\n",
    "def num(x):\n",
    "    return x\n",
    "\n",
    "print(num(5))\n",
    "print(num(10))\n",
    "```\n",
    "\n",
    "Porém, também podemos utilizar valores de variáveis como valores de funções, por exemplo:\n",
    "```python\n",
    "y = 10\n",
    "print(num(y))\n",
    "```\n",
    "Isso irá retornar 10 como valor de num, valor da função.\n",
    "\n",
    "Outro exemplo\n",
    "```python\n",
    "def sum_odd(a, b):\n",
    "    sum_of_odds = 0 \n",
    "    for i in range(a, b+1):\n",
    "        if i%2==1:\n",
    "            sum_of_odds += 1\n",
    "    return sum_of_odds\n",
    "\n",
    "low = 2\n",
    "high = 7\n",
    "my_sum = sum_odd(low, high)\n",
    "```\n",
    "Neste caso, a e b receberão os valores de low e high respectivamente."
   ]
  },
  {
   "cell_type": "markdown",
   "metadata": {},
   "source": [
    "**Escopo da função**\n",
    "- Como o python executa uma função? Como o python sabe qual valor está associado com o nome da variável? Pode até soar difícil de se entender, mas não é! \n",
    "\n",
    "Quando estamos executando um código python, ele possui seu ambiente de produção, quando invocamos uma função, o python cria um novo ambiente. É como se fosse um miniprograma rodando dentro do programa principal, entendeu?\n",
    "\n",
    "- O miniprograma é executado atribuindo seus parâmetros a algumas entradas\n",
    "- Realiza o trabalho do corpo da função\n",
    "- Retorna um valor \n",
    "- O ambiente some depois de retornar o valor\n",
    "\n",
    "**Tipos de escopo**<br>\n",
    "**Escopo local**:\n",
    "- Uma variável que é declarada dentro da função, é chamada de variável local, portanto, só poderá ser acessada dentro desta função.\n",
    "\n",
    "**Escopo Enclosing**:\n",
    "- Se uma função estiver aninhada com outra função, a função interna possui acesso às variáveis da função externa (pai) e vice-versa.\n",
    "\n",
    "**Escopo global**:\n",
    "- Uma variável que é declara fora do corpo da função e pode ser acessada em qualquer parte do código.\n",
    "\n",
    "**Escopo built-in**:"
   ]
  },
  {
   "cell_type": "markdown",
   "metadata": {},
   "source": [
    "**Ambientes**\n"
   ]
  }
 ],
 "metadata": {
  "kernelspec": {
   "display_name": "Python 3",
   "language": "python",
   "name": "python3"
  },
  "language_info": {
   "codemirror_mode": {
    "name": "ipython",
    "version": 3
   },
   "file_extension": ".py",
   "mimetype": "text/x-python",
   "name": "python",
   "nbconvert_exporter": "python",
   "pygments_lexer": "ipython3",
   "version": "3.12.2"
  }
 },
 "nbformat": 4,
 "nbformat_minor": 2
}
