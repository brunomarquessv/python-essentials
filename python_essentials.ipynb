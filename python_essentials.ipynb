{
 "cells": [
  {
   "cell_type": "markdown",
   "id": "77f33df1-6935-467a-bd2d-baef7020cf2d",
   "metadata": {},
   "source": [
    "# Python"
   ]
  },
  {
   "cell_type": "markdown",
   "id": "671e47d4-d293-4935-aed8-6e1b809810b5",
   "metadata": {},
   "source": [
    "Python is a high-level, dynamically typed multiparadigm programming language. Python code is often said to be almost like pseudocode, since it allows you to express very powerful ideas in very few lines of code while being very readable."
   ]
  },
  {
   "cell_type": "markdown",
   "id": "27499eb3-aa6e-45f3-9fbd-b393996d8f51",
   "metadata": {},
   "source": [
    "# Table of Contents"
   ]
  },
  {
   "cell_type": "markdown",
   "id": "66c5e33b-bbbf-4170-b3f7-266c4b85b67c",
   "metadata": {},
   "source": [
    "1. [Introduction to Python](#Introduction-to-Python)\n",
    "\n",
    "2. [Strings, Input/Output, Branching](#Strings,-Input/Output,-Branching)\n",
    "\n",
    "3. [Iteration](#Iteration)\n",
    "\n",
    "4. [Loops over Strings, Guess-and-Check, Binary](#)\n",
    "\n",
    "5. [Floats and Approximation Methods](#)\n",
    "\n",
    "6. [Bisection Search](#)\n",
    "\n",
    "7. [Decomposition, Abstraction and Functions](#)\n",
    "\n",
    "8. [Functions as Objects](#)\n",
    "\n",
    "9. [Lambda Functions, Tuples and Lists](#)\n",
    "\n",
    "10. [Lists and Mutability](#)\n",
    "\n",
    "11. [Aliasing and Cloning](#)\n",
    "\n",
    "12. [List Comprehension, Functions as Objects, Testing and Debugging](#)\n",
    "\n",
    "13. [Exceptions and Assertions](#)\n",
    "\n",
    "14. [Dictionaries](#)\n",
    "\n",
    "15. [Recursion](#)\n",
    "\n",
    "16. [Recursion on Non-numerics](#)\n",
    "\n",
    "17. [Python Classes](#)\n",
    "\n",
    "18. [More Python Class Methods](#)\n",
    "\n",
    "19. [Inheritance](#)\n",
    "\n",
    "20. [Fitness Tracker Object-Oriented Programming Example](#)\n",
    "\n",
    "21. [Timing Programs and COunting Operations](#)\n",
    "\n",
    "22. [Big Oh and Theta](#)\n",
    "\n",
    "23. [Complexity Classes Example](#)\n",
    "\n",
    "24. [Sorting Algorithms](#)\n",
    "\n",
    "25. [Plotting](#)\n",
    "\n",
    "26. [List Access, Hashing, Simulations and Wrap-Up](#)"
   ]
  },
  {
   "cell_type": "markdown",
   "id": "e525f802-5f22-4680-b84f-f02ca97b9235",
   "metadata": {},
   "source": [
    "# Introduction to Python"
   ]
  },
  {
   "cell_type": "markdown",
   "id": "599ee7fe-f159-470d-9275-c06b535df491",
   "metadata": {},
   "source": [
    "# Strings, Input/Output, Branching"
   ]
  },
  {
   "cell_type": "markdown",
   "id": "8d0d4dfc-0600-44bc-bb0b-81d9db0cb21f",
   "metadata": {},
   "source": [
    "# Iteration"
   ]
  },
  {
   "cell_type": "markdown",
   "id": "c1733609-39fc-40c9-9204-161f1559eddd",
   "metadata": {},
   "source": [
    "# Loops over Strings, Guess-and-Check, Binary"
   ]
  },
  {
   "cell_type": "markdown",
   "id": "d32901f9-b37b-4ddd-839f-e3da7a26b781",
   "metadata": {},
   "source": [
    "# Floats and Approximation Methods"
   ]
  },
  {
   "cell_type": "markdown",
   "id": "240948df-6cb8-48ad-98c9-4ea273a9c3e1",
   "metadata": {},
   "source": [
    "# Bisection Search"
   ]
  },
  {
   "cell_type": "markdown",
   "id": "fd30f645-19e4-4335-abd8-482aff674dd9",
   "metadata": {
    "jp-MarkdownHeadingCollapsed": true
   },
   "source": [
    "# Decomposition, Abstraction, and Functions"
   ]
  },
  {
   "cell_type": "markdown",
   "id": "52bf5c92-64fd-4717-a7db-e99bc38520d1",
   "metadata": {},
   "source": [
    "Explica-se muito que **abstração**, nada mais é do que a **representação de algo do mundo real, para o mundo da programação**. É verdade! Porém, podemos ir além.\n",
    "\n",
    "Bem, no mundo real possuímos os celulares, que para grande maioria das pessoas são apenas aparelhos quadradinhos que podemos enviar mensagens, receber mensagens, realizar ligações e até mesmo interagir em redes sociais.\n",
    "\n",
    "Para nós, podemos enxergar também que os celulares possuem, como em um código Python: entradas (inputs) e saídas (outputs). \n",
    "\n",
    "Mas como assim? Quando estamos realizando um código em python e queremos printar na tela um número e pedimos ao usuário para que digite este número, utilizamos o seguinte: ```digite = input(\"digite um número: \")``` (entrada) e imprimimos o resultado com ```print(digite)``` (saída). \n",
    "\n",
    "Da mesma forma que um celular, ao digitarmos um número e ele aparece em uma caixa de pesquisa ou quando clicamos em um contato e ele mostra os detalhes deste usuário, estamos tratando com inputs e outputs. \n",
    "\n",
    "A maioria das pessoas não fazem ideia de como isto funciona, apenas aprendem a utilizá-lo sem que necessariamente entendam o funcionamento técnico por trás do aparelho. \n",
    "\n",
    "Empresas do mundo inteiro, principalmente as que fabricam celulares como por exemplo a Apple, fragmentam a criação de seus celulares para que se obtenha a melhor perfomance, design e interface para os usuários. Como assim? uma empresa \"X\" fabrica seus hardwares, outra \"Y\" fabrica seus software iOS e assim continuamente. Mesmo assim, a empresa X, não entende necessariamente como é feito os componentes da empresa Y e apenas sabem do necessário, para que tenha uma compatibilidade entre os componentes ou um bom funcionamento. \n",
    "\n",
    "Portanto, entende-se que a **abstração promove a decomposição** e isso pode está muito bem **interligado com funções no Python**.\n",
    "\n",
    "**Por que?** \n",
    "\n",
    "- Funções, nada mais é do que pedaços de código reutilizáveis que promovem também, manutenabilidade a aplicação, de forma que, o usuário, não necessariamente entenda como é feito, mas consiga utilizá-lo mesmo assim.\n",
    "- Podemos utilizar as funções com qualquer entrada e ainda assim, ter sempre a saída esperada.\n",
    "- Nada mais é, do que uma forma especial de se criar um código.\n",
    "- E ao criamos uma função, informamos ao Python que aquele código agora existe em sua memória.\n",
    "\n",
    "**Vamos ao exemplo prático** <br>\n",
    "\n",
    "Características de uma função:\n",
    "- Toda função necessariamente precisa de um nome\n",
    "- Podemos também, implementar parâmetros ()\n",
    "- De forma opcional, podemos também \"documentar uma função\" e logo abaixo veremos a importância disto para um bom entendimento de código.\n",
    "- Corpo da função - local onde é dada as instruções de funcionamento\n",
    "- **IMPORTANTE!!** - nenhuma função será iniciada ou \"rodada\" ao menos que seja (chamada ou invocada) - veremos abaixo também o exemplo"
   ]
  },
  {
   "cell_type": "markdown",
   "id": "c6a5d071-70ad-4d3c-9794-54032fed4c80",
   "metadata": {},
   "source": [
    "Como escrever uma função?\n",
    "```python\n",
    "def \"nome da função\"(\"parametros\"):\n",
    "    '''\n",
    "    docstring: é como se fosse a documentação da função,<br>\n",
    "    ajuda outros programadores a entender o funcionamento e a importancia da função.<br>\n",
    "    '''\n",
    "    # comandos\n",
    "    |\n",
    "    | bloco de comandos<br>\n",
    "    |\n",
    "```\n",
    "\n",
    "**Exemplo prático:**\n",
    "```python\n",
    "def is_even(i):\n",
    "    '''\n",
    "    a função é utilizada para determinar se um numero é par ou não.\n",
    "    ela vai receber um numero inteiro e positivo (i) e retornará depois da iteração \n",
    "    true ou false.\n",
    "    '''\n",
    "    if i%2==0:\n",
    "        return True\n",
    "    else:\n",
    "        return False\n",
    "```"
   ]
  },
  {
   "cell_type": "markdown",
   "id": "a87a4fbd-d19e-4e37-975f-3dc4d7ae7e47",
   "metadata": {},
   "source": [
    "Como devemos pensar na hora de escrever uma função?\n",
    "Utilizaremos a função is_even como exemplo.\n",
    "\n",
    "1. Qual é o problema?\n",
    "- Dar como entrada um valor inteiro, dado ao parametro i e para sabermos se ele é ou não par\n",
    "- Utilize este pensamento para escrever o nome da função e suas especificações<br>\n",
    "```python\n",
    "def is_even(i):\n",
    "    \"\"\"\n",
    "    entrada -> i, numero inteiro e positivo\n",
    "    que retorna True se for par, caso contrário False\n",
    "    \"\"\"\n",
    "```\n",
    "2. Como resolver o problema?\n",
    "- Implementar uma estrutura de decisão que irá determinar se o número inteiro dado como entrada, dividido por 2, resultará em uma divisão inteira ou seja: resto 0. \n",
    "\n",
    "```python\n",
    "def is_even(i):\n",
    "    \"\"\"\n",
    "    entrada -> i, numero inteiro e positivo\n",
    "    que retorna True se for par, caso contrário False\n",
    "    \"\"\"\n",
    "    if i%2==0:\n",
    "        return True\n",
    "    else:\n",
    "        return False\n",
    "```\n",
    "\n",
    "Pense também na melhor forma de fazer a função, deixando seu código mais limpo possível.\n",
    "```python\n",
    "def is_even(i):\n",
    "    return i%2 == 0\n",
    "```"
   ]
  },
  {
   "cell_type": "markdown",
   "id": "e2247cb2-b90d-4322-a33f-4bf0f6ef679e",
   "metadata": {},
   "source": [
    "**Chamando/Invocando a função**\n",
    "```python\n",
    "is_even(3)\n",
    "is_even(8)\n",
    "```\n",
    "- Utilizamos o nome da função e o valor que vai entre parênteses, irá ser associado ao parâmetro determinado na criação da função.\n",
    "- Neste caso, o output será:\n",
    "```python\n",
    "False\n",
    "True\n",
    "```"
   ]
  },
  {
   "cell_type": "markdown",
   "id": "ab34559c-bde0-4bbc-8f14-cfdbfb7a593f",
   "metadata": {},
   "source": [
    "```python\n",
    "----------------------------------\n",
    "def is_even(i):\n",
    "    return i%2==0\n",
    "\n",
    "is_even(8)\n",
    "# R: True\n",
    "----------------------------------\n",
    "```"
   ]
  },
  {
   "cell_type": "markdown",
   "id": "da2b1988-e731-4635-919d-09ad605ca82b",
   "metadata": {},
   "source": [
    "Conclusão:\n",
    "- Funções permite que \"escondamos\" os detalhes do usuário\n",
    "- Função captura os blocos de código, como se fossem uma caixinha\n",
    "- Um programador escreve uma função com:\n",
    "    - 0 ou mais entradas\n",
    "    - Quando tem algo para ser retornado\n",
    "- Uma função só é executada quando invocada\n",
    "- No final, toda chamada da função é substituída pelo seu retorno\n",
    "- Lembre-se sempre em expressões e como você irá substituir uma expressão inteira pelo valor que ele avalia\n",
    "- Utilize o ``def`` para iniciar/criar uma função"
   ]
  },
  {
   "cell_type": "markdown",
   "id": "711a47ce-6139-4e59-adc6-df4cda60beed",
   "metadata": {},
   "source": [
    "# Functions as Objects"
   ]
  },
  {
   "cell_type": "markdown",
   "id": "2db94b9c-c2ab-482e-8fad-9d6a2bd4b5a8",
   "metadata": {},
   "source": [
    "# Lambda Functions, Tuples, and Lists"
   ]
  },
  {
   "cell_type": "markdown",
   "id": "557b8326-43c1-4430-9514-acff33152993",
   "metadata": {},
   "source": [
    "# Lists and Mutability"
   ]
  },
  {
   "cell_type": "markdown",
   "id": "e6d7246c-cf4f-40e3-b7c9-a6839e571190",
   "metadata": {},
   "source": [
    "# Aliasing and Cloning"
   ]
  },
  {
   "cell_type": "markdown",
   "id": "06139777-3cfc-4222-aabb-eb6486ad00b4",
   "metadata": {},
   "source": [
    "# List Comprehension, Functions as Objects, Testing, and Debugging"
   ]
  },
  {
   "cell_type": "markdown",
   "id": "d86d4384-0b2c-41e1-a812-83c1c4a6c296",
   "metadata": {},
   "source": [
    "# Exceptions and Assertions"
   ]
  },
  {
   "cell_type": "markdown",
   "id": "de4d0b27-1109-4a5a-8922-bc2c7fde7fe4",
   "metadata": {},
   "source": [
    "# Dictionaries"
   ]
  },
  {
   "cell_type": "markdown",
   "id": "7b683756-d348-4018-92e9-b5e9d1a166f7",
   "metadata": {},
   "source": [
    "# Recursion"
   ]
  },
  {
   "cell_type": "markdown",
   "id": "4146399a-009b-4f87-ae56-9db43bd4d061",
   "metadata": {},
   "source": [
    "# Recursion on Non-numerics"
   ]
  },
  {
   "cell_type": "markdown",
   "id": "4a7197be-35ea-4f7d-9390-a3c370e4313b",
   "metadata": {},
   "source": [
    "# Python Classes"
   ]
  },
  {
   "cell_type": "markdown",
   "id": "79977be3-35da-4a15-b4d2-5fbddae557cb",
   "metadata": {},
   "source": [
    "# More Python Class Methods"
   ]
  },
  {
   "cell_type": "markdown",
   "id": "41278db3-a7aa-470b-bd96-53deda73f706",
   "metadata": {},
   "source": [
    "# Inheritance"
   ]
  },
  {
   "cell_type": "markdown",
   "id": "e66beba7-1c1d-49ab-bfdd-4562c2d00f19",
   "metadata": {},
   "source": [
    "# Fitness Tracker Object-Oriented Programming Example"
   ]
  },
  {
   "cell_type": "markdown",
   "id": "e95c61d5-000a-4876-9479-c7d95fe131dc",
   "metadata": {},
   "source": [
    "# Timing Programs and Counting Operations"
   ]
  },
  {
   "cell_type": "markdown",
   "id": "7eac21e7-2d29-4b6e-89a6-08162e2aefb3",
   "metadata": {},
   "source": [
    "# Big Oh and Theta"
   ]
  },
  {
   "cell_type": "markdown",
   "id": "859e8f9b-937a-43c7-be2f-6df81b606221",
   "metadata": {},
   "source": [
    "# Complexity Classes Examples"
   ]
  },
  {
   "cell_type": "markdown",
   "id": "3ef4fd92-2f65-4697-b35e-4fdb6fe9e201",
   "metadata": {},
   "source": [
    "# Sorting Algorithms"
   ]
  },
  {
   "cell_type": "markdown",
   "id": "1ee8164c-f180-4ba7-911f-d9ba752ef1a3",
   "metadata": {
    "jp-MarkdownHeadingCollapsed": true
   },
   "source": [
    "# Plotting"
   ]
  },
  {
   "cell_type": "markdown",
   "id": "cc9eecbd-528b-4b10-adbd-f78ee2471e71",
   "metadata": {
    "jp-MarkdownHeadingCollapsed": true
   },
   "source": [
    "# List Access, Hashing, Simulations, and Wrap-Up"
   ]
  }
 ],
 "metadata": {
  "kernelspec": {
   "display_name": "Python 3 (ipykernel)",
   "language": "python",
   "name": "python3"
  },
  "language_info": {
   "codemirror_mode": {
    "name": "ipython",
    "version": 3
   },
   "file_extension": ".py",
   "mimetype": "text/x-python",
   "name": "python",
   "nbconvert_exporter": "python",
   "pygments_lexer": "ipython3",
   "version": "3.11.7"
  }
 },
 "nbformat": 4,
 "nbformat_minor": 5
}
