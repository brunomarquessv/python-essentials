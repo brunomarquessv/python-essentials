{
 "cells": [
  {
   "cell_type": "markdown",
   "metadata": {},
   "source": [
    "# Dictionaries"
   ]
  },
  {
   "cell_type": "code",
   "execution_count": 15,
   "metadata": {},
   "outputs": [],
   "source": [
    "# 1. Creating a simple dictionary\n",
    "# we gonna use car dictionary as example\n",
    "car = {'color':'blue', 'year': 1968, 'model':'mustang'} # key-value pair structure\n",
    "\n",
    "# the dictionary car store the car color, year and model"
   ]
  },
  {
   "cell_type": "code",
   "execution_count": 16,
   "metadata": {},
   "outputs": [
    {
     "name": "stdout",
     "output_type": "stream",
     "text": [
      "mustang\n",
      "blue\n",
      "1968\n"
     ]
    }
   ],
   "source": [
    "# when we want to print the values from dictionary we use the function print() with the key name inside a pair of brackets\n",
    "print(car['model'])\n",
    "print(car['color'])\n",
    "print(car['year'])"
   ]
  },
  {
   "cell_type": "code",
   "execution_count": 17,
   "metadata": {},
   "outputs": [
    {
     "name": "stdout",
     "output_type": "stream",
     "text": [
      "mustang\n",
      "{'color': 'blue', 'year': 1968, 'model': 'bmw'}\n",
      "{'color': 'blue', 'year': 1968, 'model': 'bmw', 'speed': 5}\n",
      "empty dictionary: {}\n",
      "dictionary with keys and values: {'name': 'bruno', 'email': 'brunomdsv5@gmail.com', 'age': 23}\n",
      "{'name': 'bruno', 'email': 'brunomdsv5@gmail.com'}\n"
     ]
    }
   ],
   "source": [
    "# working with dictionaries\n",
    "# acessing dictionaries values \n",
    "\n",
    "# 1- we can acess like the same way we print the value\n",
    "car['model']\n",
    "\n",
    "# 2-  adding the dict value in another variable \n",
    "new_car = car['model']\n",
    "print(new_car)\n",
    "\n",
    "# 3- modifying values \n",
    "car['model'] = 'bmw' # the first value of model key is 'mustang' but now his new value is 'bmw'\n",
    "print(car)\n",
    "\n",
    "# 4- adding new keys and values\n",
    "car['speed'] = 5\n",
    "print(car)\n",
    "\n",
    "# 5- starting with an empty dictionary\n",
    "person = {}\n",
    "print(f'empty dictionary: {person}')\n",
    "\n",
    "person['name'] = 'bruno'\n",
    "person['email'] = 'brunomdsv5@gmail.com'\n",
    "person['age'] = 23\n",
    "print(f'dictionary with keys and values: {person}')\n",
    "\n",
    "# 6- removing key-value pairs\n",
    "del person['age']\n",
    "print(person)"
   ]
  },
  {
   "cell_type": "code",
   "execution_count": 19,
   "metadata": {},
   "outputs": [
    {
     "name": "stdout",
     "output_type": "stream",
     "text": [
      "Ester's favorite language is C++\n"
     ]
    },
    {
     "data": {
      "text/plain": [
       "'c++'"
      ]
     },
     "execution_count": 19,
     "metadata": {},
     "output_type": "execute_result"
    }
   ],
   "source": [
    "# another example with similar objects\n",
    "favorite_languages = {\n",
    "    'bruno':'python',\n",
    "    'ester':'c++',\n",
    "    'monik':'java'\n",
    "}\n",
    "\n",
    "language = favorite_languages['ester'].title()\n",
    "print(f\"Ester's favorite language is {language}\")\n",
    "\n",
    "# to see the what language sarah choose, we give this instruction:\n",
    "favorite_languages['ester']"
   ]
  },
  {
   "cell_type": "code",
   "execution_count": 20,
   "metadata": {},
   "outputs": [
    {
     "ename": "KeyError",
     "evalue": "'color'",
     "output_type": "error",
     "traceback": [
      "\u001b[1;31m---------------------------------------------------------------------------\u001b[0m",
      "\u001b[1;31mKeyError\u001b[0m                                  Traceback (most recent call last)",
      "Cell \u001b[1;32mIn[20], line 4\u001b[0m\n\u001b[0;32m      1\u001b[0m \u001b[38;5;66;03m# using get() to acess values\u001b[39;00m\n\u001b[0;32m      2\u001b[0m \u001b[38;5;66;03m# lets try use a example which the key-value doesnt exist and see what happend\u001b[39;00m\n\u001b[0;32m      3\u001b[0m book \u001b[38;5;241m=\u001b[39m {\u001b[38;5;124m'\u001b[39m\u001b[38;5;124mpages\u001b[39m\u001b[38;5;124m'\u001b[39m:\u001b[38;5;241m35\u001b[39m}\n\u001b[1;32m----> 4\u001b[0m \u001b[38;5;28mprint\u001b[39m(book[\u001b[38;5;124m'\u001b[39m\u001b[38;5;124mcolor\u001b[39m\u001b[38;5;124m'\u001b[39m])\n",
      "\u001b[1;31mKeyError\u001b[0m: 'color'"
     ]
    }
   ],
   "source": [
    "# lets try use a example which the key-value doesnt exist and see what happend\n",
    "book = {'pages':35}\n",
    "print(book['color'])\n",
    "\n",
    "# have you seen? we receveid an error"
   ]
  },
  {
   "cell_type": "code",
   "execution_count": 24,
   "metadata": {},
   "outputs": [
    {
     "name": "stdout",
     "output_type": "stream",
     "text": [
      "this key-value doesnt exist\n",
      "35\n",
      "None\n"
     ]
    }
   ],
   "source": [
    "# how we can solve that problem? using get() method\n",
    "# use get() to set a default value that will be returned if the request key doesnt exist\n",
    "# this method require a key as a first argument and in the sequence, an optional argument:\n",
    "\n",
    "color_book = book.get('color', 'this key-value doesnt exist')\n",
    "print(color_book)\n",
    "\n",
    "# with the value exist in dictionarie you'll get the corresponding value\n",
    "page_book = book.get('pages', 'the page key-value doesnt exist')\n",
    "print(page_book)\n",
    "\n",
    "# the second argument is optional but with we do not assign nothing, python will return None:\n",
    "model_book = book.get('model')\n",
    "print(model_book)"
   ]
  },
  {
   "cell_type": "code",
   "execution_count": 27,
   "metadata": {},
   "outputs": [
    {
     "name": "stdout",
     "output_type": "stream",
     "text": [
      "Ester\n",
      "Marques\n",
      "0\n",
      "Recife\n",
      "{'bruno': 13, 'ester': 24, 'monik': 4, 'ml': 7}\n"
     ]
    }
   ],
   "source": [
    "# try it yourself (exercise)\n",
    "# create a dictionarie with data of some person (first name, last name, age and city) and print each key-value pair\n",
    "my_person = {\n",
    "    'first_name':'Ester',\n",
    "    'last_name':'Marques',\n",
    "    'age':0,\n",
    "    'city':'Recife'\n",
    "}\n",
    "print(my_person['first_name'])\n",
    "print(my_person['last_name'])\n",
    "print(my_person['age'])\n",
    "print(my_person['city'])\n",
    "\n",
    "# another exercise \n",
    "# favorite numbers: use a dictionary to store people's favorite numbers and think in names and use them as keys \n",
    "fav_numbers = {\n",
    "    'bruno':13,\n",
    "    'ester':24,\n",
    "    'monik':4,\n",
    "    'ml':7\n",
    "}\n",
    "print(fav_numbers)"
   ]
  },
  {
   "cell_type": "code",
   "execution_count": 34,
   "metadata": {},
   "outputs": [
    {
     "name": "stdout",
     "output_type": "stream",
     "text": [
      "username = seubatista\n",
      "first = seu\n",
      "last = batista\n",
      "('username', 'seubatista')\n",
      "('first', 'seu')\n",
      "('last', 'batista')\n",
      "username\n",
      "first\n",
      "last\n"
     ]
    }
   ],
   "source": [
    "# looping through a dictionary\n",
    "\n",
    "# looping through all values\n",
    "user_1 = {\n",
    "    'username':'seubatista',\n",
    "    'first':'seu',\n",
    "    'last':'batista'\n",
    "}\n",
    "\n",
    "for key, value in user_1.items():\n",
    "    print(f\"{key} = {value}\")\n",
    "    \n",
    "for key in user_1.items():\n",
    "    print(f\"{key}\")\n",
    "\n",
    "for i in user_1: # in this case the variable loop through the keys\n",
    "    print(i)\n"
   ]
  }
 ],
 "metadata": {
  "kernelspec": {
   "display_name": "base",
   "language": "python",
   "name": "python3"
  },
  "language_info": {
   "codemirror_mode": {
    "name": "ipython",
    "version": 3
   },
   "file_extension": ".py",
   "mimetype": "text/x-python",
   "name": "python",
   "nbconvert_exporter": "python",
   "pygments_lexer": "ipython3",
   "version": "3.11.7"
  }
 },
 "nbformat": 4,
 "nbformat_minor": 2
}
