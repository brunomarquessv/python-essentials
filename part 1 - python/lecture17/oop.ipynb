{
 "cells": [
  {
   "cell_type": "markdown",
   "id": "42fea725-7568-428a-a1ce-b17e66cde32e",
   "metadata": {},
   "source": [
    "#### Python - Programação Orientada a Objetos"
   ]
  },
  {
   "cell_type": "markdown",
   "id": "2df280ec-110b-4a79-9e5a-d45ab02d9c20",
   "metadata": {},
   "source": [
    "**Python suporta diferentes tipos de dados como: int, str, floats, bool, lists, sets...**\n",
    "- Cada tipo deste, é um objeto e cada objeto possui:\n",
    "    - um tipo\n",
    "    - uma representação de dados seja ela primitiva ou composta\n",
    "    - um conjunto de procedimentos de interação com o objeto\n",
    "- Um objeto pode ser dito como uma instância de um tipo, por exemplo:\n",
    "    - 1234 é uma instância de um **int**\n",
    "    - \"python\" é uma instância de uma **str**\n",
    " \n",
    "**Tudo no Python é um objeto**\n",
    "- podemos criar novos objetos de diferentes tipos\n",
    "- podemos manipular esses objetos, como exemplo:\n",
    "    - quando alteramos valores de uma lista com .append() ou utilizando o sort() para alterar a sequência de seus valores\n",
    "- podemos deletar esses objetos:\n",
    "    - explicitamente utilizando ``del`` ou tornando o trecho de código que está o objeto, inutilizável.\n",
    "\n",
    "**O que são objetos?**\n",
    "- Objetos são representações abstratas que possibilitam...\n",
    "    - registro de uma representação interna através dos atributos\n",
    "    - implementação de uma interface para interagir com o objeto criado...\n",
    "        - através de métodos (funções ``def``)\n",
    "        - definindo também, comportamentos e escondendo sua implementação (encapsulmento)\n"
   ]
  },
  {
   "cell_type": "markdown",
   "id": "f4c1e3fb-1f84-4f92-b678-4dc547f0dc3c",
   "metadata": {},
   "source": [
    "**Exemplos reais de objetos** \n",
    "- Elevador: uma caixa que transporta pessoas através de andares\n",
    "    - sua representações: altura, largura, peso, capacidade, andar atual...\n",
    "    - ações: se mover entre andares, adicionar pessoas ao seu espaço interno, remover pessoas\n",
    "- Escova de dente elétrica:\n",
    "    - representações: cor, marca, preço, tipo de cerda\n",
    "    - ações: ligada, desligada, carregada ou não carregada"
   ]
  },
  {
   "cell_type": "markdown",
   "id": "7b81de59-56d6-42f5-aaca-e2740e2885aa",
   "metadata": {},
   "source": [
    "**Por que utilizar POO?**\n",
    "- Possibilita agrupar dados em \"pacotes\" juntamente de procedimentos que operam sobre eles por meio de interfaces bem definida;\n",
    "- Promove a modularidade e reduz a complexidade do código;\n",
    "- Reuso de código evitando a repetição (más práticas de programação);\n",
    "- Tem seu ambiente de desenvolvimento separado (evitando colisão entre nomes de funções);\n",
    "- Permite **herança** entre as subclasses para redefinir ou até mesmo extender comportamento de alguma classe específica\n",
    "- **Você decide quais tipos de dados representarão a classe**\n",
    "- **Você decide quais operações o usuário pode ter com a classe, juntamente com o comportamento resultante dessa interação**"
   ]
  },
  {
   "cell_type": "markdown",
   "id": "acaab407-5aca-4059-afe8-449b39804bcd",
   "metadata": {},
   "source": [
    "**Paralelo com funções**\n",
    "- Definir uma classe é tipo definir uma função\n",
    "    - Com funções nós dizemos ao Python que este procedimento existe\n",
    "    - Com classes, nós dizemos ao Python sobre o **planejamento do novo tipo de dado**\n",
    "        - Seus atributos de dados\n",
    "        - Seus atributos processuais\n",
    "     \n",
    "- Criar instâncias de objetos é como se estivéssemos chamando uma função\n",
    "    - classes permitem fazer chamadas (invocações) com parâmetros diferentes\n",
    "    - podemos também criar novas instâncias de objetos dentro da memória de cada tipo"
   ]
  },
  {
   "cell_type": "markdown",
   "id": "4d54e85c-c740-40fa-a558-761c85160623",
   "metadata": {},
   "source": [
    "**Criação de uma classe** <br>\n",
    "- Criação e Utilização de classes\n",
    "\n",
    "1. Criando uma classe:\n",
    "- definição do seu nome\n",
    "- definição dos seus atributos\n",
    "\n",
    "2. Utilização de sua classe:\n",
    "- criar novas instâncias do objeto\n",
    "- realizar operações dentro das instâncias (por exemplo: modificar uma lista ou extrair informações dela como ``list = [1,2]`` ``len(list)``"
   ]
  },
  {
   "cell_type": "markdown",
   "id": "b70b2179-6931-4b6b-92b5-cc10e7cf129a",
   "metadata": {},
   "source": [
    "**Definindo seus próprio tipo**<br>\n",
    "- utilizamos a sintaxe ``class`` como palavra chave de definição<br>\n",
    "```\n",
    "class Carro(object):\n",
    "    // atributos  \n",
    "```\n",
    "``class`` = definição da classe\n",
    "``Carro`` = nome da classe\n",
    "``object`` = pai da classe\n",
    "\n",
    "- de forma similar a outras funções no python como ``def``, ``if``, ``while`` a identação também indica qual bloco de código faz parte das definições da classe;\n",
    "- a palavra ``object`` que está sendo colocada como parâmetro, indica que o Carro é um objeto python e está herdando todos os seus atributos, portanto:\n",
    "    - ``Carro`` é uma subclasse de ``object``\n",
    "    - ``object`` é a classe pai de Carro"
   ]
  },
  {
   "cell_type": "markdown",
   "id": "4a08a319-01d9-4820-ab40-fbb52d60e6a6",
   "metadata": {},
   "source": [
    "**O que são atributos?**\n",
    "Podemos entender como atributos, características. Por exemplo, uma pessoa que possui como características: cor da pele, cor do cabelo, altura, peso, tipo de vestimenta...\n",
    "\n",
    "Portanto, atributos são dados e procedimentos (iremos melhorar a definição de procedimentos) que pertencem a classe\n",
    "\n",
    "**Atributos dos dados**\n",
    "- Imagine que os dados são apenas outros objetos e variáveis que compõem a classe;\n",
    "- Por exemplo uma classe Carro que é composta por marca e modelo, ou seja, duas strings.\n",
    "\n",
    "**Métodos**\n",
    "- Métodos são atributos processuais, o que isto significa? De forma simplificada, métodos significam as ações.\n",
    "- Dentro da classe carro, eu  poderia informar que os métodos seriam \"acelere\" e \"pare\". \n",
    "- São também funções que funcionam apenas com esta classe, por exemplo.\n",
    "  "
   ]
  },
  {
   "cell_type": "code",
   "execution_count": null,
   "id": "1af11088-5b1a-482d-b972-c5d547b5f18c",
   "metadata": {},
   "outputs": [],
   "source": []
  }
 ],
 "metadata": {
  "kernelspec": {
   "display_name": "Python 3 (ipykernel)",
   "language": "python",
   "name": "python3"
  },
  "language_info": {
   "codemirror_mode": {
    "name": "ipython",
    "version": 3
   },
   "file_extension": ".py",
   "mimetype": "text/x-python",
   "name": "python",
   "nbconvert_exporter": "python",
   "pygments_lexer": "ipython3",
   "version": "3.11.7"
  }
 },
 "nbformat": 4,
 "nbformat_minor": 5
}
