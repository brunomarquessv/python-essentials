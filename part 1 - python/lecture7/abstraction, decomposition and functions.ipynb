{
 "cells": [
  {
   "cell_type": "markdown",
   "id": "7c8da442-da30-402b-a31b-b939fe95658c",
   "metadata": {},
   "source": [
    "#### Abstração, decomposição e funções"
   ]
  },
  {
   "cell_type": "markdown",
   "id": "33820b4f-7ad1-438c-8b42-3513f57e8919",
   "metadata": {},
   "source": [
    "Explica-se muito que **abstração**, nada mais é do que a **representação de algo do mundo real, para o mundo da programação**. É verdade! Porém, podemos ir além.\n",
    "\n",
    "Bem, no mundo real possuímos os celulares, que para grande maioria das pessoas são apenas aparelhos quadradinhos que podemos enviar mensagens, receber mensagens, realizar ligações e até mesmo interagir em redes sociais.\n",
    "\n",
    "Para nós, podemos enxergar também que os celulares possuem, como em um código Python: entradas (inputs) e saídas (outputs). \n",
    "\n",
    "Mas como assim? Quando estamos realizando um código em python e queremos printar na tela um número e pedimos ao usuário para que digite este número, utilizamos o seguinte: ```digite = input(\"digite um número: \")``` (entrada) e imprimimos o resultado com ```print(digite)``` (saída). \n",
    "\n",
    "Da mesma forma que um celular, ao digitarmos um número e ele aparece em uma caixa de pesquisa ou quando clicamos em um contato e ele mostra os detalhes deste usuário, estamos tratando com inputs e outputs. \n",
    "\n",
    "A maioria das pessoas não fazem ideia de como isto funciona, apenas aprendem a utilizá-lo sem que necessariamente entendam o funcionamento técnico por trás do aparelho. \n",
    "\n",
    "Empresas do mundo inteiro, principalmente as que fabricam celulares como por exemplo a Apple, fragmentam a criação de seus celulares para que se obtenha a melhor perfomance, design e interface para os usuários. Como assim? uma empresa \"X\" fabrica seus hardwares, outra \"Y\" fabrica seus software iOS e assim continuamente. Mesmo assim, a empresa X, não entende necessariamente como é feito os componentes da empresa Y e apenas sabem do necessário, para que tenha uma compatibilidade entre os componentes ou um bom funcionamento. \n",
    "\n",
    "Portanto, entende-se que a **abstração promove a decomposição** e isso pode está muito bem **interligado com funções no Python**.\n",
    "\n",
    "**Por que?** \n",
    "\n",
    "- Funções, nada mais é do que pedaços de código reutilizáveis que promovem também, manutenabilidade a aplicação, de forma que, o usuário, não necessariamente entenda como é feito, mas consiga utilizá-lo mesmo assim.\n",
    "- Podemos utilizar as funções com qualquer entrada e ainda assim, ter sempre a saída esperada.\n",
    "- Nada mais é, do que uma forma especial de se criar um código.\n",
    "- E ao criamos uma função, informamos a Python que aquele código, agora existe em sua memória.\n",
    "\n",
    "**Vamos ao exemplo prático** \n",
    "- Características de uma função:\n",
    "- Toda função necessariamente precisa de um nome\n",
    "- Podemos também, implementar parâmetros ()\n",
    "- De forma opcional, podemos também \"documentar uma função\" e logo abaixo veremos a importância disto para um bom entendimento de código.\n",
    "- Corpo da função - local onde é dada as instruções de funcionamento\n",
    "- **IMPORTANTE!!** - nenhum função será iniciada ou \"rodada\" ao menos que seja (chamada ou invocada) - veremos abaixo também o exemplo\n",
    "```"
   ]
  },
  {
   "cell_type": "code",
   "execution_count": null,
   "id": "e68bf566-bac3-43b8-8e52-5e5febe33a50",
   "metadata": {},
   "outputs": [],
   "source": []
  }
 ],
 "metadata": {
  "kernelspec": {
   "display_name": "Python 3 (ipykernel)",
   "language": "python",
   "name": "python3"
  },
  "language_info": {
   "codemirror_mode": {
    "name": "ipython",
    "version": 3
   },
   "file_extension": ".py",
   "mimetype": "text/x-python",
   "name": "python",
   "nbconvert_exporter": "python",
   "pygments_lexer": "ipython3",
   "version": "3.11.7"
  }
 },
 "nbformat": 4,
 "nbformat_minor": 5
}
